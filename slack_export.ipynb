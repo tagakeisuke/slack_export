{
  "nbformat": 4,
  "nbformat_minor": 0,
  "metadata": {
    "colab": {
      "name": "slack_export.ipynb",
      "provenance": [],
      "mount_file_id": "1C81Qlg6ZiDy7BQZhiy0W-pjlqMKivefO",
      "authorship_tag": "ABX9TyM2QO5GaAIFl2x1E9vZ+e++",
      "include_colab_link": true
    },
    "kernelspec": {
      "name": "python3",
      "display_name": "Python 3"
    },
    "language_info": {
      "name": "python"
    }
  },
  "cells": [
    {
      "cell_type": "markdown",
      "metadata": {
        "id": "view-in-github",
        "colab_type": "text"
      },
      "source": [
        "<a href=\"https://colab.research.google.com/github/tagakeisuke/slack_export/blob/workspace/slack_export.ipynb\" target=\"_parent\"><img src=\"https://colab.research.google.com/assets/colab-badge.svg\" alt=\"Open In Colab\"/></a>"
      ]
    },
    {
      "cell_type": "markdown",
      "source": [
        "# Slack_exportの実行手順"
      ],
      "metadata": {
        "id": "aWnzdKlcS1Iz"
      }
    },
    {
      "cell_type": "markdown",
      "source": [
        "## Tokenの発行\n",
        "1. https://api.slack.com/apps?new_app=1 で\"Create New App\"をクリック。\n",
        "2. From Scratchを選択。\n",
        "3. app名を入力（適当でok）, データをエクスポートしたいワークスペースを選択し、\"Create App\"をクリック。\n",
        "4. メニューから、\"OAuth & Permissions\" を選択。\n",
        "5. ページ下方の\"Scopes\"内、\"User Token Scopes\"に以下のスコープを追加。\n",
        "\n",
        "- 必須\n",
        "\n",
        "users:read\n",
        "\n",
        "channels:read\n",
        "\n",
        "groups:read\n",
        "\n",
        "im:read\n",
        "\n",
        "mpim:read\n",
        "\n",
        "- ログ出力時は必要\n",
        "\n",
        "channels:history\n",
        "\n",
        "groups:history\n",
        "\n",
        "im:history\n",
        "\n",
        "mpim:history\n",
        "\n",
        "- ファイル出力時は必要\n",
        "\n",
        "files:read\n",
        "6. ページ上方の\"OAuth Tokens for Your Workspace\" 内、\"Install to Workspace\" をクリック\n",
        "7. \"Accept\"をクリック\n",
        "8. 自動遷移先のページに\"User OAuth Token\"が表示されるので、手元に保存する。"
      ],
      "metadata": {
        "id": "9e8-861LUVfi"
      }
    },
    {
      "cell_type": "markdown",
      "source": [
        "## slack_export.pyの実行"
      ],
      "metadata": {
        "id": "Q7AGbfQJU3Eb"
      }
    },
    {
      "cell_type": "code",
      "source": [
        "#Google driveをマウントし、適当なディレクトリを作成\n",
        "!cd /content/drive/MyDrive/\n",
        "!mkdir slack"
      ],
      "metadata": {
        "id": "t6tiau2dTGBv"
      },
      "execution_count": null,
      "outputs": []
    },
    {
      "cell_type": "code",
      "execution_count": null,
      "metadata": {
        "id": "G_2RcuopRQlw"
      },
      "outputs": [],
      "source": [
        "!cd slack"
      ]
    },
    {
      "cell_type": "code",
      "source": [
        "#githubからクローンする\n",
        "!git clone https://github.com/tagakeisuke/slack_export.git"
      ],
      "metadata": {
        "id": "r1bTsedvR1ZT"
      },
      "execution_count": null,
      "outputs": []
    },
    {
      "cell_type": "code",
      "source": [
        "!cd slack_export"
      ],
      "metadata": {
        "id": "2nksWw_8SEMR"
      },
      "execution_count": null,
      "outputs": []
    },
    {
      "cell_type": "code",
      "source": [
        "#必要な外部モジュールのインストール\n",
        "!pip install -r requirements.txt"
      ],
      "metadata": {
        "id": "uoWS3DUFSS10"
      },
      "execution_count": null,
      "outputs": []
    },
    {
      "cell_type": "code",
      "source": [
        "#必要であれば出力先を編集してから実行\n",
        "!python slack_export.py"
      ],
      "metadata": {
        "id": "3WYJQnhDScO_"
      },
      "execution_count": null,
      "outputs": []
    }
  ]
}